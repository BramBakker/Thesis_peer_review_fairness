{
 "cells": [
  {
   "cell_type": "code",
   "execution_count": 598,
   "metadata": {},
   "outputs": [],
   "source": [
    "import csv\n",
    "import pandas as pd\n",
    "df_02_01 = pd.read_csv(\"MD-0002-00000001.csv\")\n",
    "df_02_02 = pd.read_csv(\"MD-0002-00000002.csv\")\n",
    "df_02_03 = pd.read_csv(\"MD-0002-00000003.csv\")\n",
    "df_04_01 = pd.read_csv(\"MD-0004-00000001.csv\")\n",
    "df_04_02 = pd.read_csv(\"MD-0004-00000002.csv\")"
   ]
  },
  {
   "cell_type": "code",
   "execution_count": 641,
   "metadata": {},
   "outputs": [],
   "source": [
    "import numpy as np\n",
    "import matplotlib.pyplot as plt\n",
    "from mip import Model, xsum, maximize, minimize, BINARY\n",
    "import networkx as nx\n",
    "from sklearn.cluster import KMeans\n",
    "from kneed import KneeLocator\n",
    "from timeit import default_timer as timer\n",
    "\n",
    "#this function returns an affinity matrix based on the dataframes.\n",
    "def m_maker(R,S,df):\n",
    "    n=0\n",
    "    A=np.zeros((R,S))\n",
    "    while(n!=R):\n",
    "        located=df.loc[df['Reviewer id'] == n]\n",
    "        for i, row in located.iterrows():\n",
    "            if row['Bid'] == 'yes':\n",
    "                A[n][row['Submission number']] = 3\n",
    "            elif row['Bid'] == 'maybe':\n",
    "                A[n][row['Submission number']] = 2\n",
    "            elif row['Bid'] == 'no':\n",
    "                A[n][row['Submission number']] = 1\n",
    "            else:\n",
    "                A[n][row['Submission number']] = 0\n",
    "        n+=1\n",
    "    n=0\n",
    "    return A"
   ]
  },
  {
   "cell_type": "code",
   "execution_count": 608,
   "metadata": {},
   "outputs": [],
   "source": [
    "#linear programming optimizer\n",
    "def optimizer(A, R, S, load, coverage, egal_bot=0, diverse='no', divlist={}):\n",
    "    m = Model(sense=maximize)\n",
    "\n",
    "    B = [[m.add_var(var_type=BINARY) for j in range(S)] for i in range(R)]\n",
    "\n",
    "    AB = xsum(A[i][j]*B[i][j] for i in range(R) for j in range(S))\n",
    "\n",
    "    m.objective = maximize(AB)\n",
    "\n",
    "    for j in range(S):\n",
    "        m += xsum(B[i][j] for i in range(R)) >= 2\n",
    "        m += xsum(B[i][j] for i in range(R)) <= coverage\n",
    "\n",
    "    for i in range(R):\n",
    "        for j in range(S):\n",
    "            if A[i][j] == 0:\n",
    "                m += B[i][j] == 0\n",
    "\n",
    "    for i in range(R):\n",
    "        l= xsum(B[i][j] for j in range(S))\n",
    "        m += l >= 1\n",
    "        m += l <= load\n",
    "    \n",
    "    for i in range(R):\n",
    "        m+=xsum(A[i][j]*B[i][j] for j in range(S)) >= egal_bot\n",
    "        \n",
    "    if diverse==\"yes\":\n",
    "        for a in range(S):\n",
    "            for i in divlist.keys():\n",
    "                m += xsum(B[j][a] for j in divlist[i]) <= 1\n",
    "\n",
    "    m.optimize()\n",
    "    r=[x for x in range(0, R)]\n",
    "    r={el:[] for el in r}\n",
    "    for i in range(R):\n",
    "        for j in range(S):\n",
    "            if (B[i][j].x>=0.99):\n",
    "                r[i].append(j)\n",
    "    return r\n",
    "    "
   ]
  },
  {
   "cell_type": "code",
   "execution_count": 601,
   "metadata": {},
   "outputs": [],
   "source": [
    "#to get all scores for papers and reviewers.\n",
    "def utility_score(dic, A):\n",
    "    ut=[]\n",
    "    for rev in dic:\n",
    "        s_score=0\n",
    "        sub=dic[rev]\n",
    "        for i in sub:\n",
    "            s_score+=A[rev][i]\n",
    "        ut.append(s_score)\n",
    "    return ut\n",
    "\n",
    "def new_dic(dic,R,P):\n",
    "    r=[x for x in range(0, R)]\n",
    "    r={el:[] for el in r}\n",
    "    for i in range(R):\n",
    "        for j in range(P):\n",
    "            if i in dic[j]:\n",
    "                r[i].append(j)\n",
    "    return r\n",
    "\n",
    "def r_to_pap(dic, R,P):\n",
    "    r=[x for x in range(0, P)]\n",
    "    r={el:[] for el in r}\n",
    "    for i in range(P):\n",
    "        for j in range(R):\n",
    "            if i in dic[j]:\n",
    "                r[i].append(j)\n",
    "    return r\n",
    "\n",
    "def utility_score_pap(dic, A):\n",
    "    ut=[]\n",
    "    for rev in dic:\n",
    "        s_score=0\n",
    "        sub=dic[rev]\n",
    "        for i in sub:\n",
    "            s_score+=A[i][rev]\n",
    "        ut.append(s_score)\n",
    "    return ut\n",
    "         "
   ]
  },
  {
   "cell_type": "code",
   "execution_count": 603,
   "metadata": {},
   "outputs": [],
   "source": [
    "#These functions make use of the kmeans clustering algorithm to determine the right cluster amount, and to divide the scores.\n",
    "\n",
    "kmeans = {\n",
    "    \"init\": \"random\",\n",
    "    \"n_init\":10,\n",
    "    \"max_iter\": 300,\n",
    "    \"random_state\": 42}\n",
    "\n",
    "\n",
    "def groups(A, kmeans):\n",
    "    sse=[]\n",
    "    for k in range(1, 21):\n",
    "        kmeans_extr = KMeans(n_clusters=k, **kmeans)\n",
    "        kmeans_extr.fit(A)\n",
    "        sse.append(kmeans_extr.inertia_)\n",
    "    kl = KneeLocator(range(1, 21), sse, curve=\"convex\", direction=\"decreasing\")\n",
    "    return kl.elbow\n",
    "def k_means(A, amount, kmeans):\n",
    "    used=[]\n",
    "    complist=[]\n",
    "    k_complete= KMeans(amount, **kmeans)\n",
    "    k_complete.fit(A)\n",
    "    labels= k_complete.labels_\n",
    "    for i in range(len(A)):\n",
    "        if labels[i] not in used:\n",
    "            complist.append([A[i]])\n",
    "            used.append(labels[i])\n",
    "        else:\n",
    "            for j in range(len(used)):\n",
    "                if used[j]==labels[i]:\n",
    "                    complist[j].append(A[j])\n",
    "\n",
    "    score_list=[]\n",
    "    for i in range(len(used)):\n",
    "        scores=[]\n",
    "        for j in range(len(complist[i][0])):\n",
    "            count_1=0\n",
    "            count_2=0\n",
    "            count_3=0\n",
    "            count_min=0\n",
    "            for k in range(len(complist[i])):\n",
    "                if complist[i][k][j]==3:\n",
    "                    count_3+=1\n",
    "                if complist[i][k][j]==2:\n",
    "                    count_2+=1\n",
    "                if complist[i][k][j]==1:\n",
    "                    count_1+=1\n",
    "                if complist[i][k][j]==0:\n",
    "                    count_min+=1\n",
    "            x=0\n",
    "            total=count_1+count_2+count_3+count_min\n",
    "            x+=(count_2/total)*0.25\n",
    "            x+=(count_3/total)*0.75\n",
    "            scores.append(x)\n",
    "        score_list.append(scores)\n",
    "    newA=[]\n",
    "    \n",
    "    for i in range(len(score_list)):\n",
    "        lab=used[i]\n",
    "        to_add=score_list[i]\n",
    "        for j in range(len(labels)):\n",
    "            if lab == labels[j]:\n",
    "                    l = A[j] + to_add\n",
    "                    newA.append(l)\n",
    "                    \n",
    "    for i in range(len(newA)):\n",
    "        for j in range(len(newA[i])):\n",
    "            if newA[i][j] < 1 and newA[i][j]>0:\n",
    "                newA[i][j] = 0\n",
    "    return newA\n",
    "\n",
    "#divlist returns a dictionary with cluster classes as keys and their place in A as values.\n",
    "def divlist(A, amount, kmeans):\n",
    "    k_complete = KMeans(amount, **kmeans)\n",
    "    k_complete.fit(A)\n",
    "    labels = k_complete.labels_\n",
    "    uniques = []\n",
    "    complist = {}\n",
    "    for i in range(len(labels)):\n",
    "        if labels[i] not in uniques:\n",
    "            uniques.append(labels[i])\n",
    "            complist[labels[i]]=[i]\n",
    "        else:\n",
    "            complist[labels[i]].append(i)\n",
    "    return complist"
   ]
  },
  {
   "cell_type": "code",
   "execution_count": 604,
   "metadata": {},
   "outputs": [],
   "source": [
    "# returns the OWA transformation on A\n",
    "def max_OWA(A, R, S, alpha):\n",
    "    newA=np.zeros((R,S))\n",
    "    for i in range(R):\n",
    "        maxim = 0\n",
    "        sec = 0\n",
    "        third = 0\n",
    "        for j in range(S):\n",
    "            if A[i][j] >= maxim:\n",
    "                maxim = A[i][j]\n",
    "        for y in range(S):\n",
    "            if A[i][y]<maxim and A[i][y] >= sec:\n",
    "                sec=A[i][y]\n",
    "        for z in range(S):\n",
    "            if A[i][z] < sec and A[i][z] >= third:\n",
    "                third=A[i][z]\n",
    "        for x in range(S):\n",
    "            if A[i][x] == maxim:\n",
    "                newA[i][x] = A[i][x]*alpha[0]\n",
    "            if A[i][x] == sec:\n",
    "                newA[i][x] = A[i][x]*alpha[1]\n",
    "            if A[i][x] <= third:\n",
    "                newA[i][x] = A[i][x]*alpha[2]\n",
    "    return newA"
   ]
  },
  {
   "cell_type": "code",
   "execution_count": 605,
   "metadata": {},
   "outputs": [],
   "source": [
    "#returns amount of people who received their top ranked data based on a matching and an affinity matrix\n",
    "def top_ranked_data(dic, A):\n",
    "    s_score=0\n",
    "    for rev in dic:\n",
    "        top_score=0\n",
    "        sub=dic[rev]\n",
    "        maxim = max(A[rev])\n",
    "        for i in sub:\n",
    "            if A[rev][i] == maxim:\n",
    "                top_score+=1\n",
    "        if top_score>=1:\n",
    "            s_score+=1\n",
    "    return s_score"
   ]
  },
  {
   "cell_type": "code",
   "execution_count": 607,
   "metadata": {},
   "outputs": [],
   "source": [
    "#this function can plot the times of the algorithms visually\n",
    "def time_plotter(small,medium,large,R1, P1, R2, P2, R3, P3, L, C,colour, egal_bot=0, diverse='no', divlist=[{},{},{}]):\n",
    "    timelist=[]\n",
    "    start = timer()\n",
    "    s=optimizer(small, R1, P1, L, C, egal_bot, diverse, divlist[0])\n",
    "    end = timer()\n",
    "    timelist.append(end-start)\n",
    "    print(end-start)\n",
    "    start = timer()\n",
    "    m=optimizer(med, R2, P2, L, C,egal_bot, diverse, divlist[1])\n",
    "    end = timer()\n",
    "    timelist.append(end-start)\n",
    "    print(end-start)\n",
    "    start = timer()\n",
    "    l=optimizer(large, R3, P3, L, C,egal_bot, diverse, divlist[2])\n",
    "    end = timer()\n",
    "    timelist.append(end-start)\n",
    "    print(timelist)\n",
    "    z = np.polyfit([R1,R2,R3], timelist, 6)\n",
    "    p=np.poly1d(z)\n",
    "    xp=np.linspace(30,201)\n",
    "    plt.plot(xp, p(xp), colour)\n",
    "    "
   ]
  },
  {
   "cell_type": "code",
   "execution_count": 629,
   "metadata": {},
   "outputs": [],
   "source": [
    "#firstflow performs the first step of the fairflow algorithm and secflow the second and third.\n",
    "def firstflow(sim_matrix, R, P, load, cov):\n",
    "    G = nx.DiGraph()\n",
    "    G.add_node('source')\n",
    "    G.add_nodes_from(range(R))\n",
    "    for i in range(R):\n",
    "        G.add_edge('source',i, capacity=load, weight=0)\n",
    "    G.add_nodes_from(range(R,P+R))\n",
    "    \n",
    "    G.add_node('sink')\n",
    "    for i in range(R, R+P):\n",
    "        G.add_edge(i, 'sink', capacity=cov,weight=0)\n",
    "\n",
    "    for i in range(R):\n",
    "        for j in range(P):\n",
    "            c=-sim_matrix[i][j]\n",
    "            G.add_edge(i, j+R, capacity=1,weight=c)\n",
    "    maxed=nx.max_flow_min_cost(G, 'source','sink')\n",
    "    r=[x for x in range(0, P)]\n",
    "    r={el:[] for el in r}\n",
    "    for i in range(R):\n",
    "        for j in range(P):\n",
    "            if maxed[i][j+R] == 1:\n",
    "                r[j].append(i)\n",
    "    return r\n",
    "\n",
    "\n",
    "def secflow(sim_matrix, R, P,flow, mid):\n",
    "    first=utility_score_pap(flow, sim_matrix)\n",
    "    p_low=[]\n",
    "    p_middle=[]\n",
    "    p_high=[]\n",
    "\n",
    "    for i in range(P):\n",
    "        if first[i]>=mid:\n",
    "            p_high.append(i)\n",
    "        elif first[i]>=mid-3:\n",
    "            p_middle.append(i)\n",
    "        else:\n",
    "            p_low.append(i)\n",
    "    low_reviewers = []\n",
    "    for i in p_low:\n",
    "        if len(flow[i]) == 2:\n",
    "            if sim_matrix[flow[i][0]][i] > sim_matrix[flow[i][1]][i]:\n",
    "                flow[i].remove(flow[i][1])\n",
    "            else:\n",
    "                flow[i].remove(flow[i][0])\n",
    "            low_reviewers.append(flow[i][0])\n",
    "        elif len(flow[i]) == 3:\n",
    "            if sim_matrix[flow[i][0]][i] <sim_matrix[flow[i][1]][i] and sim_matrix[flow[i][2]][i]:\n",
    "                flow[i].remove(flow[i][0])\n",
    "            elif sim_matrix[flow[i][1]][i] <sim_matrix[flow[i][0]][i] and sim_matrix[flow[i][2]][i]:\n",
    "                flow[i].remove(flow[i][1])\n",
    "            else:\n",
    "                flow[i].remove(flow[i][2])\n",
    "    G=nx.DiGraph()\n",
    "    G.add_node('source')\n",
    "    G.add_nodes_from(range(R))\n",
    "    G.add_nodes_from(range(R,P+R))\n",
    "    for i in p_high:\n",
    "        G.add_edge('source',i+R,capacity=1, weight=0)\n",
    "        review= flow[i][0]\n",
    "        G.add_edge(i+R, review, capacity=1, weight=0)\n",
    "    for i in p_middle:\n",
    "        G.add_node(\"dummy_{i}\")\n",
    "        G.add_edge(\"dummy_{i}\", i+31, capacity=1, weight=0)\n",
    "    dum={}\n",
    "    \n",
    "    for i in p_middle:\n",
    "        dum[i]=[]    \n",
    "    \n",
    "    for i in p_high:\n",
    "        for j in flow[i]:\n",
    "            for x in p_middle:\n",
    "                if j not in flow[x]:\n",
    "                    dum[x].append(sim_matrix[j][x])\n",
    "                    G.add_edge(j,f\"dummy_{i}\", capacity=1, weight=0)\n",
    "    \n",
    "    for i in p_middle:\n",
    "        S_p= first[i]\n",
    "        A_min=min(dum[i])\n",
    "        for j in range(R):\n",
    "            if mid-3 <=S_p+A_min-sim_matrix[j][i]:\n",
    "                G.add_edge(i+R,j, capacity=1, weight=0)                \n",
    "    \n",
    "    for i in range(R):\n",
    "        if i not in low_reviewers:\n",
    "            for j in p_low:\n",
    "                if flow[j] != []:\n",
    "                    if sim_matrix[flow[j][0]][j] + sim_matrix[i][j] >= mid-3:\n",
    "                        G.add_edge(i, j+R, capacity = 1, weight = -sim_matrix[i][j]*10)\n",
    "                    else:\n",
    "                        G.add_edge(i, j+R, capacity = 1, weight = -sim_matrix[i][j])\n",
    "                if flow[j] == []:\n",
    "                    G.add_edge(i, j+R, capacity = 1, weight = -sim_matrix[i][j])\n",
    "    G.add_node('sink')\n",
    "    for i in p_low:\n",
    "        G.add_edge(i+R, 'sink', capacity=1, weight=0)\n",
    "    maxed=nx.max_flow_min_cost(G, 'source','sink')\n",
    "    for i in range(R):\n",
    "        for j in maxed[i]:\n",
    "            if maxed[i][j]==1:\n",
    "                flow[j-R].append(i)\n",
    "    return flow"
   ]
  },
  {
   "cell_type": "code",
   "execution_count": 630,
   "metadata": {},
   "outputs": [],
   "source": [
    "# combo_m creates a bunch of matrices based on one file\n",
    "def combo_m(R, P, df, alpha):\n",
    "    m_1=m_maker(R, P, df)\n",
    "    m_2=max_OWA(m_1, R, P, alpha)\n",
    "    gr=groups(m_1, kmeans)\n",
    "    m_3=k_means(m_1, gr, kmeans)\n",
    "    m_4=max_OWA(m_3, R, P, alpha)\n",
    "    return [m_1, m_2, m_3, m_4]\n",
    "\n",
    "\n",
    "# combo_o creates a bunch of matchings based on the matrices of one file, also times the optimization and returns the \n",
    "# top ranked data amount.\n",
    "def combo_o(comb, R, P, L, C, B,divL):\n",
    "    start = timer()\n",
    "    o_1=optimizer(comb[0], R, P, L, C)\n",
    "    end = timer()\n",
    "    print(round((end-start),2))\n",
    "    start = timer()\n",
    "    o_2=optimizer(comb[1], R, P, L, C)\n",
    "    end = timer()\n",
    "    print(round((end-start),2))\n",
    "    start = timer()\n",
    "    o_3=optimizer(comb[2], R, P, L, C)\n",
    "    end = timer()\n",
    "    print(round((end-start),2))\n",
    "    start = timer()\n",
    "    o_4=optimizer(comb[3], R, P, L, C)\n",
    "    end = timer()\n",
    "    print(round((end-start),2))\n",
    "    start = timer()\n",
    "    o_5=optimizer(comb[0], R, P, L, C, egal_bot=B)\n",
    "    end = timer()\n",
    "    print(round((end-start),2))\n",
    "    start = timer()\n",
    "    div=divlist(comb[0], groups(comb[0], kmeans), kmeans)\n",
    "    o_6=optimizer(comb[0], R, P, divL, C, diverse=\"yes\", divlist=div)\n",
    "    end = timer()\n",
    "    print(round((end-start),2))\n",
    "    p_1=utility_score(o_1,comb[0])\n",
    "    print(top_ranked_data(o_1, comb[0]))\n",
    "    p_2=utility_score(o_2,comb[1])\n",
    "    print(top_ranked_data(o_2, comb[1]))\n",
    "    p_3=utility_score(o_3,comb[2])\n",
    "    print(top_ranked_data(o_3, comb[2]))\n",
    "    p_4=utility_score(o_4,comb[3])\n",
    "    print(top_ranked_data(o_4, comb[3]))\n",
    "    p_5=utility_score(o_5,comb[0])\n",
    "    print(top_ranked_data(o_5, comb[0]))\n",
    "    p_6=utility_score(o_6,comb[0])\n",
    "    print(top_ranked_data(o_6, comb[0]))\n",
    "    return [p_1, p_2, p_3, p_4, p_5, p_6]\n",
    "\n",
    "#fairflow algorithm combines the two steps\n",
    "def fairflow(matr, R, P, l, cov, T):\n",
    "    fl = firstflow(matr, R, P, l, cov)\n",
    "    \n",
    "    secfl=secflow(matr, R,P,fl, T)\n",
    "    for i in range(4):\n",
    "        secfl = secflow(matr, R,P, secfl, T)\n",
    "    \n",
    "    diction=new_dic(secfl,R,P)\n",
    "    flow2=(utility_score_pap(secfl,matr)),\n",
    "    r_flow=utility_score(diction, matr)\n",
    "    print(top_ranked_data(diction, matr))    \n",
    "    return [r_flow, flow2]\n",
    "\n",
    "#returns the sum, mean standard deviation and minimum score of matching\n",
    "def sum_mean(l):\n",
    "    for i in range(6):\n",
    "        print(round(sum(l[i]),2))\n",
    "    for i in range(6):\n",
    "        print(round(np.mean(l[i]),2))\n",
    "    for i in range(6):\n",
    "        print(round(np.std(l[i]),2))\n",
    "    for i in range(6):\n",
    "        print(min(l[i]))"
   ]
  },
  {
   "cell_type": "code",
   "execution_count": 609,
   "metadata": {},
   "outputs": [],
   "source": [
    "#parameters\n",
    "alpha=[1,0.5,0.25]\n",
    "R1=31\n",
    "R2=161\n",
    "R3=201\n",
    "R4=146\n",
    "R5=24\n",
    "P1=54\n",
    "P2=442\n",
    "P3=613\n",
    "P4=176\n",
    "P5=52\n",
    "L=5\n",
    "C=3\n",
    "C2=2\n"
   ]
  },
  {
   "cell_type": "code",
   "execution_count": 610,
   "metadata": {},
   "outputs": [],
   "source": [
    "small = combo_m(R1,P1,df_02_01, alpha)\n",
    "med = combo_m(R2, P2, df_04_02, alpha)\n",
    "large = combo_m(R3, P3, df_04_01, alpha)\n",
    "balanced = combo_m(R4, P4, df_02_03, alpha)\n",
    "smallest = combo_m(R5, P5, df_02_02, alpha)"
   ]
  },
  {
   "cell_type": "code",
   "execution_count": 611,
   "metadata": {},
   "outputs": [
    {
     "name": "stdout",
     "output_type": "stream",
     "text": [
      "0.91\n",
      "0.53\n",
      "0.61\n",
      "0.54\n",
      "0.67\n",
      "1.74\n",
      "24\n",
      "24\n",
      "24\n",
      "24\n",
      "24\n",
      "24\n",
      "0.73\n",
      "0.76\n",
      "0.66\n",
      "0.69\n",
      "0.67\n",
      "1.51\n",
      "30\n",
      "31\n",
      "23\n",
      "26\n",
      "31\n",
      "31\n"
     ]
    }
   ],
   "source": [
    "combo_smallest = combo_o(smallest, R5, P5, L, C, 13, L)\n",
    "combo_small=combo_o(small, R1, P1, L, C, 9, L)\n"
   ]
  },
  {
   "cell_type": "code",
   "execution_count": 612,
   "metadata": {},
   "outputs": [
    {
     "name": "stdout",
     "output_type": "stream",
     "text": [
      "46.48\n",
      "44.9\n",
      "52.67\n",
      "55.93\n",
      "55.51\n",
      "53.51\n",
      "199\n",
      "197\n",
      "185\n",
      "191\n",
      "200\n",
      "178\n",
      "26.28\n",
      "32.51\n",
      "31.75\n",
      "29.37\n",
      "33.28\n",
      "29.87\n",
      "157\n",
      "156\n",
      "145\n",
      "151\n",
      "159\n",
      "144\n"
     ]
    }
   ],
   "source": [
    "combo_large=combo_o(large, R3, P3, 7, C2, 8, 11)\n",
    "combo_med=combo_o(med, R2, P2, 6, C2, 8, 9)\n"
   ]
  },
  {
   "cell_type": "code",
   "execution_count": 615,
   "metadata": {},
   "outputs": [
    {
     "name": "stdout",
     "output_type": "stream",
     "text": [
      "8.37\n",
      "7.49\n",
      "7.72\n",
      "9.18\n",
      "10.47\n",
      "13.19\n",
      "138\n",
      "140\n",
      "122\n",
      "130\n",
      "140\n",
      "128\n"
     ]
    }
   ],
   "source": [
    "combo_balanced=combo_o(balanced, R4, P4, L, C, 3, L)\n"
   ]
  },
  {
   "cell_type": "code",
   "execution_count": 636,
   "metadata": {},
   "outputs": [
    {
     "name": "stdout",
     "output_type": "stream",
     "text": [
      "3043.0\n",
      "2701.75\n",
      "3071.74\n",
      "2257.16\n",
      "3042.0\n",
      "2833.0\n",
      "15.14\n",
      "13.44\n",
      "15.28\n",
      "11.23\n",
      "15.13\n",
      "14.09\n",
      "4.45\n",
      "5.33\n",
      "4.85\n",
      "5.09\n",
      "4.2\n",
      "8.87\n",
      "1.0\n",
      "0.25\n",
      "1.0\n",
      "0.25\n",
      "8.0\n",
      "1.0\n"
     ]
    }
   ],
   "source": [
    "sum_mean(combo_large)"
   ]
  },
  {
   "cell_type": "code",
   "execution_count": 616,
   "metadata": {
    "scrolled": true
   },
   "outputs": [
    {
     "data": {
      "image/png": "[encoded data removed]",
      "text/plain": [
       "<Figure size 432x288 with 1 Axes>"
      ]
     },
     "metadata": {
      "needs_background": "light"
     },
     "output_type": "display_data"
    }
   ],
   "source": [
    "ax = sns.boxplot(x=np.array([\"A\",\"OWA\",\"clust\",\"clust_OWA\",\"egal\",\"div\",\"fairflow\"]),y=[combo_smallest[0],combo_smallest[1],combo_smallest[2],combo_smallest[3],combo_smallest[4],combo_smallest[5], smalst[0]], palette=\"Set3\")"
   ]
  },
  {
   "cell_type": "code",
   "execution_count": 617,
   "metadata": {},
   "outputs": [
    {
     "data": {
      "image/png": "[encoded data removed]",
      "text/plain": [
       "<Figure size 432x288 with 1 Axes>"
      ]
     },
     "metadata": {
      "needs_background": "light"
     },
     "output_type": "display_data"
    }
   ],
   "source": [
    "import seaborn as sns\n",
    "\n",
    "ax = sns.boxplot(x=np.array([\"A\",\"OWA\",\"clust\",\"clust_OWA\",\"egal\",\"div\",\"fairflow\"]),y=[combo_small[0],combo_small[1],combo_small[2],combo_small[3],combo_small[4],combo_small[5], smal[0]], palette=\"Set3\")"
   ]
  },
  {
   "cell_type": "code",
   "execution_count": 632,
   "metadata": {},
   "outputs": [
    {
     "data": {
      "image/png": "[encoded data removed]",
      "text/plain": [
       "<Figure size 432x288 with 1 Axes>"
      ]
     },
     "metadata": {
      "needs_background": "light"
     },
     "output_type": "display_data"
    }
   ],
   "source": [
    "ax = sns.boxplot(x=np.array([\"A\",\"OWA\",\"clust\",\"clust_OWA\",\"egal\",\"div\",\"fairflow\"]),y=[combo_balanced[0],combo_balanced[1],combo_balanced[2],combo_balanced[3],combo_balanced[4],combo_balanced[5], bal[0]], palette=\"Set3\")"
   ]
  },
  {
   "cell_type": "code",
   "execution_count": 619,
   "metadata": {},
   "outputs": [
    {
     "data": {
      "image/png": "[encoded data removed]",
      "text/plain": [
       "<Figure size 432x288 with 1 Axes>"
      ]
     },
     "metadata": {
      "needs_background": "light"
     },
     "output_type": "display_data"
    }
   ],
   "source": [
    "ax = sns.boxplot(x=np.array([\"A\",\"OWA\",\"clust\",\"clust_OWA\",\"egal\",\"div\",\"fairflow\"]),y=[combo_med[0],combo_med[1],combo_med[2],combo_med[3],combo_med[4],combo_med[5], me[0]], palette=\"Set3\")"
   ]
  },
  {
   "cell_type": "code",
   "execution_count": 620,
   "metadata": {},
   "outputs": [
    {
     "data": {
      "image/png": "[encoded data removed]",
      "text/plain": [
       "<Figure size 432x288 with 1 Axes>"
      ]
     },
     "metadata": {
      "needs_background": "light"
     },
     "output_type": "display_data"
    }
   ],
   "source": [
    "ax = sns.boxplot(x=np.array([\"A\",\"OWA\",\"clust\",\"clust_OWA\",\"egal\",\"div\",\"fairflow\"]),y=[combo_large[0],combo_large[1],combo_large[2],combo_large[3],combo_large[4],combo_large[5],lar[0]], palette=\"Set3\")"
   ]
  },
  {
   "cell_type": "code",
   "execution_count": 631,
   "metadata": {},
   "outputs": [
    {
     "name": "stdout",
     "output_type": "stream",
     "text": [
      "146\n",
      "12.212197100016056\n"
     ]
    }
   ],
   "source": [
    "start = timer()\n",
    "bal=fairflow(balanced[0], R4, P4, 3, 3, 7)\n",
    "end = timer()\n",
    "print(end-start)\n"
   ]
  },
  {
   "cell_type": "code",
   "execution_count": 633,
   "metadata": {},
   "outputs": [
    {
     "name": "stdout",
     "output_type": "stream",
     "text": [
      "24\n",
      "0.5190702000109013\n",
      "31\n",
      "0.8202333000081126\n"
     ]
    }
   ],
   "source": [
    "start = timer()\n",
    "smalst=fairflow(smallest[0], R5, P5, 5, 3,7)\n",
    "end = timer()\n",
    "print(end-start)\n",
    "start = timer()\n",
    "smal=fairflow(small[0], R1, P1, 4, 3,7)\n",
    "end = timer()\n",
    "print(end-start)"
   ]
  },
  {
   "cell_type": "code",
   "execution_count": 634,
   "metadata": {},
   "outputs": [
    {
     "name": "stdout",
     "output_type": "stream",
     "text": [
      "200\n",
      "82.6383163999999\n",
      "158\n",
      "38.70295909998822\n"
     ]
    }
   ],
   "source": [
    "start = timer()\n",
    "lar=fairflow(large[0], R3, P3, 5, 2,5)\n",
    "end = timer()\n",
    "print(end-start)\n",
    "start = timer()\n",
    "me=fairflow(med[0], R2, P2, 5, 2, 5)\n",
    "end = timer()\n",
    "print(end-start)\n"
   ]
  },
  {
   "cell_type": "code",
   "execution_count": 635,
   "metadata": {},
   "outputs": [
    {
     "name": "stdout",
     "output_type": "stream",
     "text": [
      "2783.0\n",
      "13.845771144278608\n",
      "5.0\n",
      "1.4409680388158819\n"
     ]
    }
   ],
   "source": [
    "print(sum(lar[0]))\n",
    "print(np.mean(lar[0]))\n",
    "print(np.min(lar[0]))\n",
    "print(np.std(smalst[0]))"
   ]
  },
  {
   "cell_type": "code",
   "execution_count": null,
   "metadata": {},
   "outputs": [],
   "source": []
  },
  {
   "cell_type": "code",
   "execution_count": null,
   "metadata": {},
   "outputs": [],
   "source": []
  }
 ],
 "metadata": {
  "kernelspec": {
   "display_name": "Python 3",
   "language": "python",
   "name": "python3"
  },
  "language_info": {
   "codemirror_mode": {
    "name": "ipython",
    "version": 3
   },
   "file_extension": ".py",
   "mimetype": "text/x-python",
   "name": "python",
   "nbconvert_exporter": "python",
   "pygments_lexer": "ipython3",
   "version": "3.7.6"
  }
 },
 "nbformat": 4,
 "nbformat_minor": 4
}
